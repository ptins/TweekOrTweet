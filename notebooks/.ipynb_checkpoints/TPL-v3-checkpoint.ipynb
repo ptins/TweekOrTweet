{
 "cells": [
  {
   "cell_type": "code",
   "execution_count": 1,
   "metadata": {},
   "outputs": [],
   "source": [
    "import pandas as pd\n",
    "df_from = pd.read_csv('../user_tweets_from.csv')"
   ]
  },
  {
   "cell_type": "code",
   "execution_count": 5,
   "metadata": {},
   "outputs": [],
   "source": [
    "s = pd.to_datetime(df_from['created_at'])"
   ]
  },
  {
   "cell_type": "code",
   "execution_count": 11,
   "metadata": {},
   "outputs": [],
   "source": [
    "from datetime import datetime\n",
    "ss = datetime.utcnow() - s"
   ]
  },
  {
   "cell_type": "code",
   "execution_count": 12,
   "metadata": {},
   "outputs": [
    {
     "data": {
      "text/plain": [
       "0         0 days 01:15:13.607927\n",
       "1         0 days 02:22:25.607927\n",
       "2         0 days 02:35:22.607927\n",
       "3         0 days 04:08:05.607927\n",
       "4         0 days 05:47:20.607927\n",
       "5         0 days 06:14:33.607927\n",
       "6         0 days 06:27:29.607927\n",
       "7         0 days 06:36:45.607927\n",
       "8         0 days 06:43:41.607927\n",
       "9         0 days 06:49:55.607927\n",
       "10        0 days 06:58:48.607927\n",
       "11        0 days 07:04:07.607927\n",
       "12        0 days 07:06:06.607927\n",
       "13        0 days 11:16:22.607927\n",
       "14        0 days 12:20:43.607927\n",
       "15        0 days 12:24:26.607927\n",
       "16        0 days 13:24:14.607927\n",
       "17        0 days 23:09:12.607927\n",
       "18        0 days 23:14:14.607927\n",
       "19        0 days 23:15:13.607927\n",
       "20        0 days 23:15:25.607927\n",
       "21        0 days 23:49:20.607927\n",
       "22        0 days 23:51:34.607927\n",
       "23        1 days 05:43:59.607927\n",
       "24        1 days 06:59:32.607927\n",
       "25        1 days 06:59:53.607927\n",
       "26        1 days 06:59:55.607927\n",
       "27        1 days 07:00:08.607927\n",
       "28        1 days 08:03:34.607927\n",
       "29        1 days 08:07:01.607927\n",
       "                  ...           \n",
       "11389   103 days 03:07:49.607927\n",
       "11390   103 days 10:03:59.607927\n",
       "11391   105 days 00:26:44.607927\n",
       "11392   105 days 10:49:06.607927\n",
       "11393   107 days 06:51:55.607927\n",
       "11394   108 days 04:53:29.607927\n",
       "11395   108 days 09:11:54.607927\n",
       "11396   108 days 10:42:22.607927\n",
       "11397   110 days 12:33:30.607927\n",
       "11398   112 days 01:36:05.607927\n",
       "11399   112 days 01:50:49.607927\n",
       "11400   112 days 05:11:51.607927\n",
       "11401   115 days 00:33:30.607927\n",
       "11402   115 days 04:45:14.607927\n",
       "11403   120 days 02:55:23.607927\n",
       "11404   120 days 05:21:31.607927\n",
       "11405   120 days 09:36:35.607927\n",
       "11406   122 days 03:07:35.607927\n",
       "11407   122 days 03:16:27.607927\n",
       "11408   122 days 03:17:23.607927\n",
       "11409   122 days 03:24:48.607927\n",
       "11410   122 days 09:24:55.607927\n",
       "11411   122 days 13:08:28.607927\n",
       "11412   122 days 17:19:41.607927\n",
       "11413   122 days 18:06:48.607927\n",
       "11414   123 days 08:07:03.607927\n",
       "11415   126 days 02:20:51.607927\n",
       "11416   126 days 09:15:50.607927\n",
       "11417   127 days 05:30:29.607927\n",
       "11418   127 days 06:37:35.607927\n",
       "Name: created_at, Length: 11419, dtype: timedelta64[ns]"
      ]
     },
     "execution_count": 12,
     "metadata": {},
     "output_type": "execute_result"
    }
   ],
   "source": [
    "ss"
   ]
  },
  {
   "cell_type": "code",
   "execution_count": 17,
   "metadata": {},
   "outputs": [
    {
     "ename": "AttributeError",
     "evalue": "'TimedeltaProperties' object has no attribute 'day'",
     "output_type": "error",
     "traceback": [
      "\u001b[0;31m---------------------------------------------------------------------------\u001b[0m",
      "\u001b[0;31mAttributeError\u001b[0m                            Traceback (most recent call last)",
      "\u001b[0;32m<ipython-input-17-b8b0fc1cba73>\u001b[0m in \u001b[0;36m<module>\u001b[0;34m()\u001b[0m\n\u001b[0;32m----> 1\u001b[0;31m \u001b[0mss\u001b[0m\u001b[0;34m.\u001b[0m\u001b[0mdt\u001b[0m\u001b[0;34m.\u001b[0m\u001b[0mday\u001b[0m\u001b[0;34m\u001b[0m\u001b[0m\n\u001b[0m",
      "\u001b[0;31mAttributeError\u001b[0m: 'TimedeltaProperties' object has no attribute 'day'"
     ]
    }
   ],
   "source": [
    "ss.dt.day"
   ]
  },
  {
   "cell_type": "code",
   "execution_count": null,
   "metadata": {},
   "outputs": [],
   "source": []
  }
 ],
 "metadata": {
  "kernelspec": {
   "display_name": "Python 3",
   "language": "python",
   "name": "python3"
  },
  "language_info": {
   "codemirror_mode": {
    "name": "ipython",
    "version": 3
   },
   "file_extension": ".py",
   "mimetype": "text/x-python",
   "name": "python",
   "nbconvert_exporter": "python",
   "pygments_lexer": "ipython3",
   "version": "3.6.4"
  }
 },
 "nbformat": 4,
 "nbformat_minor": 2
}
