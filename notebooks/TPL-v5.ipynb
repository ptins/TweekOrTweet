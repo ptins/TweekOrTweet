{
 "cells": [
  {
   "cell_type": "code",
   "execution_count": 77,
   "metadata": {},
   "outputs": [],
   "source": [
    "import numpy as np\n",
    "import pandas as pd\n",
    "import cufflinks as cf\n",
    "import plotly.offline as offline"
   ]
  },
  {
   "cell_type": "code",
   "execution_count": 78,
   "metadata": {},
   "outputs": [],
   "source": [
    "df_people = pd.read_csv('../people_list.csv')"
   ]
  },
  {
   "cell_type": "code",
   "execution_count": 79,
   "metadata": {},
   "outputs": [],
   "source": [
    "df_from = pd.read_csv('../user_tweets_from.csv')\n",
    "df_about = pd.read_csv('../user_tweets_about.csv')"
   ]
  },
  {
   "cell_type": "code",
   "execution_count": 80,
   "metadata": {},
   "outputs": [],
   "source": [
    "#create unique list of names\n",
    "UniqueNames = df_about.screen_name.unique()\n",
    "\n",
    "#create a data frame dictionary to store your data frames\n",
    "DataFrameDict = {elem : pd.DataFrame for elem in UniqueNames}\n",
    "\n",
    "for key in DataFrameDict.keys():\n",
    "    DataFrameDict[key] = df_about[:][df_about.screen_name == key]"
   ]
  },
  {
   "cell_type": "code",
   "execution_count": 150,
   "metadata": {},
   "outputs": [],
   "source": [
    "df_list = []\n",
    "\n",
    "for screen_name in df_people.screen_name:\n",
    "    \n",
    "    tmpdf = DataFrameDict[screen_name]\n",
    "    \n",
    "    tmpdf['created_at'] = pd.to_datetime(tmpdf['created_at'])\n",
    "    tmpdf = tmpdf.set_index('created_at').resample('D').mean().dropna()\n",
    "    \n",
    "    tmpdf['likability'] = 1 - (.8576 - 1.0038*tmpdf['polarity'] + .6432*tmpdf['favorite_count'])\n",
    "    \n",
    "    df_list.append(tmpdf)"
   ]
  },
  {
   "cell_type": "code",
   "execution_count": null,
   "metadata": {},
   "outputs": [],
   "source": []
  }
 ],
 "metadata": {
  "kernelspec": {
   "display_name": "Python 3",
   "language": "python",
   "name": "python3"
  },
  "language_info": {
   "codemirror_mode": {
    "name": "ipython",
    "version": 3
   },
   "file_extension": ".py",
   "mimetype": "text/x-python",
   "name": "python",
   "nbconvert_exporter": "python",
   "pygments_lexer": "ipython3",
   "version": "3.6.4"
  }
 },
 "nbformat": 4,
 "nbformat_minor": 2
}
