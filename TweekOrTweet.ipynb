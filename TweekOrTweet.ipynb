{
 "cells": [
  {
   "cell_type": "code",
   "execution_count": 1,
   "metadata": {},
   "outputs": [],
   "source": [
    "# !pip3 install twarc"
   ]
  },
  {
   "cell_type": "code",
   "execution_count": 2,
   "metadata": {},
   "outputs": [],
   "source": [
    "import json, tweepy"
   ]
  },
  {
   "cell_type": "code",
   "execution_count": 3,
   "metadata": {},
   "outputs": [],
   "source": [
    "consumer_key        = '6FTGkkHr6qIv6drlW531oLWZH'\n",
    "consumer_secret     = '6e3lSCAwy2DZQawH6N7ttTyiHbFUMuJs9GYHTHfKd2mydS2xZB'\n",
    "access_token        = '1959972582-DfvT6r2zpKLs4BSRd4KSYfxUycGvpinzXMsGcRm'\n",
    "access_token_secret = 'pCzDlv6AhzK5L8cTUMIVAmRjdVxkOWYzyE1qPUjn2Xch6'"
   ]
  },
  {
   "cell_type": "code",
   "execution_count": 4,
   "metadata": {},
   "outputs": [],
   "source": [
    "auth = tweepy.OAuthHandler(consumer_key, consumer_secret)\n",
    "auth.set_access_token(access_token, access_token_secret)\n",
    "api  = tweepy.API(auth)"
   ]
  },
  {
   "cell_type": "code",
   "execution_count": 61,
   "metadata": {},
   "outputs": [],
   "source": [
    "tweets = api.search('tomhanks')"
   ]
  },
  {
   "cell_type": "code",
   "execution_count": 62,
   "metadata": {},
   "outputs": [
    {
     "name": "stdout",
     "output_type": "stream",
     "text": [
      "None\n",
      "None\n",
      "966544190137040896\n",
      "966543785328041984\n",
      "966543458528890881\n",
      "None\n",
      "966541660044840961\n",
      "None\n",
      "966541457040596992\n",
      "966539440939204608\n",
      "966504811859361792\n",
      "None\n",
      "None\n",
      "966539075997130752\n",
      "None\n"
     ]
    }
   ],
   "source": [
    "for tweet in tweets:\n",
    "    print(tweet.in_reply_to_status_id_str)"
   ]
  },
  {
   "cell_type": "code",
   "execution_count": null,
   "metadata": {},
   "outputs": [],
   "source": []
  }
 ],
 "metadata": {
  "kernelspec": {
   "display_name": "Python 3",
   "language": "python",
   "name": "python3"
  },
  "language_info": {
   "codemirror_mode": {
    "name": "ipython",
    "version": 3
   },
   "file_extension": ".py",
   "mimetype": "text/x-python",
   "name": "python",
   "nbconvert_exporter": "python",
   "pygments_lexer": "ipython3",
   "version": "3.6.4"
  }
 },
 "nbformat": 4,
 "nbformat_minor": 2
}
