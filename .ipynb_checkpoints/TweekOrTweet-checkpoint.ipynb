{
 "cells": [
  {
   "cell_type": "code",
   "execution_count": 1,
   "metadata": {},
   "outputs": [],
   "source": [
    "# !pip3 install twarc"
   ]
  },
  {
   "cell_type": "code",
   "execution_count": 2,
   "metadata": {},
   "outputs": [],
   "source": [
    "import json, tweepy"
   ]
  },
  {
   "cell_type": "code",
   "execution_count": 3,
   "metadata": {},
   "outputs": [],
   "source": [
    "consumer_key        = '6FTGkkHr6qIv6drlW531oLWZH'\n",
    "consumer_secret     = '6e3lSCAwy2DZQawH6N7ttTyiHbFUMuJs9GYHTHfKd2mydS2xZB'\n",
    "access_token        = '1959972582-DfvT6r2zpKLs4BSRd4KSYfxUycGvpinzXMsGcRm'\n",
    "access_token_secret = 'pCzDlv6AhzK5L8cTUMIVAmRjdVxkOWYzyE1qPUjn2Xch6'"
   ]
  },
  {
   "cell_type": "code",
   "execution_count": 4,
   "metadata": {},
   "outputs": [],
   "source": [
    "auth = tweepy.OAuthHandler(consumer_key, consumer_secret)\n",
    "auth.set_access_token(access_token, access_token_secret)\n",
    "api  = tweepy.API(auth)"
   ]
  },
  {
   "cell_type": "code",
   "execution_count": 52,
   "metadata": {},
   "outputs": [],
   "source": [
    "tweets = api.search('pulpfiction', rpp=100)"
   ]
  },
  {
   "cell_type": "code",
   "execution_count": 53,
   "metadata": {},
   "outputs": [
    {
     "name": "stdout",
     "output_type": "stream",
     "text": [
      "RT @dexshirts: See, Marvin made it through after all :) #PulpFiction https://t.co/Oq2Cc05QeR\n",
      "RT @Paramount_TV: \"¿No los odias? Esos silencios incómodos. ¿Por qué necesitamos decir algo para rellenarlos? Es por eso que sabes que has…\n",
      "https://t.co/oN4m2r0GmK\n",
      ".@MathiasCormann is blowing minds already as acting PM!\n",
      "#auspol #PulpFiction #TheSimpsons https://t.co/bk4BNazaZb\n",
      "Revivivieron a lo Mía Wallace a la cantante amiga de #ElCésar #PulpFiction\n",
      "https://t.co/ba9rWiZikQ\n",
      "https://t.co/TynCAviLkx\n",
      "@WhatTheFFacts PULP FICTION IS MY ALL TIME FAV MOVIEEE OMGGG😭😭✨ #pulpfiction\n",
      "Mia Wallace - Pulp Fiction \n",
      "#pulpfiction #pixelart #pixel #Illustration #MiaWallace #JohnDoe https://t.co/YbMdA7bCsn\n",
      "RT @lacosacine: Hoy cumple años #JohnTravolta y acá van algunas cositas que quizás no sabías sobre #VincentVega en #PulpFiction https://t.c…\n",
      "@slapshoe @kurteichenwald @Jemsnatural @JthollandWingo @AnnCoulter You win for the #PulpFiction ref. 😎\n",
      "https://t.co/AFScsU0KZ0\n",
      "RT @suburbanocom: Les dejamos un link a los créditos de apertura de #PulpFiction y otro link al #playlist de #Tarantino por @PedroMedina5 q…\n",
      "#PulpFiction no sería #PulpFiction sin #Misirlou y #ReservoirDogs no sería #ReservoirDogs sin… https://t.co/Cv3dZEaVRn\n",
      "RT @sttepodcast: It's #podcast time! We review #ITonya and rewatch modern classic Pulp Fiction. Get it in your ears:\n",
      "\n",
      "https://t.co/gCcVspIr…\n"
     ]
    }
   ],
   "source": [
    "for tweet in tweets:\n",
    "    print(tweet.text)"
   ]
  },
  {
   "cell_type": "code",
   "execution_count": 55,
   "metadata": {},
   "outputs": [
    {
     "ename": "AttributeError",
     "evalue": "module 'twitter' has no attribute 'Api'",
     "output_type": "error",
     "traceback": [
      "\u001b[0;31m---------------------------------------------------------------------------\u001b[0m",
      "\u001b[0;31mAttributeError\u001b[0m                            Traceback (most recent call last)",
      "\u001b[0;32m<ipython-input-55-04746f0fa9d1>\u001b[0m in \u001b[0;36m<module>\u001b[0;34m()\u001b[0m\n\u001b[1;32m      8\u001b[0m \u001b[0;32mfrom\u001b[0m \u001b[0mos\u001b[0m \u001b[0;32mimport\u001b[0m \u001b[0menviron\u001b[0m \u001b[0;32mas\u001b[0m \u001b[0me\u001b[0m\u001b[0;34m\u001b[0m\u001b[0m\n\u001b[1;32m      9\u001b[0m \u001b[0;34m\u001b[0m\u001b[0m\n\u001b[0;32m---> 10\u001b[0;31m t = twitter.Api(\n\u001b[0m\u001b[1;32m     11\u001b[0m     \u001b[0mconsumer_key\u001b[0m        \u001b[0;34m=\u001b[0m \u001b[0;34m'6FTGkkHr6qIv6drlW531oLWZH'\u001b[0m\u001b[0;34m,\u001b[0m\u001b[0;34m\u001b[0m\u001b[0m\n\u001b[1;32m     12\u001b[0m     \u001b[0mconsumer_secret\u001b[0m     \u001b[0;34m=\u001b[0m \u001b[0;34m'6e3lSCAwy2DZQawH6N7ttTyiHbFUMuJs9GYHTHfKd2mydS2xZB'\u001b[0m\u001b[0;34m,\u001b[0m\u001b[0;34m\u001b[0m\u001b[0m\n",
      "\u001b[0;31mAttributeError\u001b[0m: module 'twitter' has no attribute 'Api'"
     ]
    }
   ],
   "source": [
    "import sys\n",
    "import json\n",
    "import time\n",
    "import logging\n",
    "import twitter\n",
    "import urllib.parse\n",
    "\n",
    "from os import environ as e\n",
    "\n",
    "consumer_key        = '6FTGkkHr6qIv6drlW531oLWZH'\n",
    "consumer_secret     = '6e3lSCAwy2DZQawH6N7ttTyiHbFUMuJs9GYHTHfKd2mydS2xZB'\n",
    "access_token        = '1959972582-DfvT6r2zpKLs4BSRd4KSYfxUycGvpinzXMsGcRm'\n",
    "access_token_secret = 'pCzDlv6AhzK5L8cTUMIVAmRjdVxkOWYzyE1qPUjn2Xch6'\n",
    "\n",
    "t = Twitter(\n",
    "    auth=OAuth(access_token, access_token_key, consumer_secret, consumer_secret_key),\n",
    "    sleep_on_rate_limit=True\n",
    ")\n",
    "\n",
    "def tweet_url(t):\n",
    "    return \"https://twitter.com/%s/status/%s\" % (t.user.screen_name, t.id)\n",
    "\n",
    "def get_tweets(filename):\n",
    "    for line in open(filename):\n",
    "        yield twitter.Status.NewFromJsonDict(json.loads(line))\n",
    "\n",
    "def get_replies(tweet):\n",
    "    user = tweet.user.screen_name\n",
    "    tweet_id = tweet.id\n",
    "    max_id = None\n",
    "    logging.info(\"looking for replies to: %s\" % tweet_url(tweet))\n",
    "    while True:\n",
    "        q = urllib.parse.urlencode({\"q\": \"to:%s\" % user})\n",
    "        try:\n",
    "            replies = t.GetSearch(raw_query=q, since_id=tweet_id, max_id=max_id, count=100)\n",
    "        except twitter.error.TwitterError as e:\n",
    "            logging.error(\"caught twitter api error: %s\", e)\n",
    "            time.sleep(60)\n",
    "            continue\n",
    "        for reply in replies:\n",
    "            logging.info(\"examining: %s\" % tweet_url(reply))\n",
    "            if reply.in_reply_to_status_id == tweet_id:\n",
    "                logging.info(\"found reply: %s\" % tweet_url(reply))\n",
    "                yield reply\n",
    "                # recursive magic to also get the replies to this reply\n",
    "                for reply_to_reply in get_replies(reply):\n",
    "                    yield reply_to_reply\n",
    "            max_id = reply.id\n",
    "        if len(replies) != 100:\n",
    "            break"
   ]
  },
  {
   "cell_type": "code",
   "execution_count": null,
   "metadata": {},
   "outputs": [],
   "source": [
    "logging.basicConfig(filename=\"replies.log\", level=logging.INFO)\n",
    "tweets_file = './sample_tweet'\n",
    "for tweet in get_tweets(tweets_file):\n",
    "    for reply in get_replies(tweet):\n",
    "        print(reply.AsJsonString())"
   ]
  }
 ],
 "metadata": {
  "kernelspec": {
   "display_name": "Python 3",
   "language": "python",
   "name": "python3"
  },
  "language_info": {
   "codemirror_mode": {
    "name": "ipython",
    "version": 3
   },
   "file_extension": ".py",
   "mimetype": "text/x-python",
   "name": "python",
   "nbconvert_exporter": "python",
   "pygments_lexer": "ipython3",
   "version": "3.6.4"
  }
 },
 "nbformat": 4,
 "nbformat_minor": 2
}
