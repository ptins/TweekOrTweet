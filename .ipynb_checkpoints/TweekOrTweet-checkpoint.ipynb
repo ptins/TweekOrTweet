{
 "cells": [
  {
   "cell_type": "code",
   "execution_count": 1,
   "metadata": {},
   "outputs": [],
   "source": [
    "# keys/tokens/secrets\n",
    "consumer_key = '6FTGkkHr6qIv6drlW531oLWZH'\n",
    "consumer_secret = '6e3lSCAwy2DZQawH6N7ttTyiHbFUMuJs9GYHTHfKd2mydS2xZB'\n",
    "access_token = '1959972582-DfvT6r2zpKLs4BSRd4KSYfxUycGvpinzXMsGcRm'\n",
    "access_token_secret = 'pCzDlv6AhzK5L8cTUMIVAmRjdVxkOWYzyE1qPUjn2Xch6'"
   ]
  },
  {
   "cell_type": "code",
   "execution_count": 2,
   "metadata": {},
   "outputs": [],
   "source": [
    "# tweepy setup \n",
    "import tweepy"
   ]
  },
  {
   "cell_type": "code",
   "execution_count": 3,
   "metadata": {},
   "outputs": [],
   "source": [
    "# oauth setup\n",
    "auth = tweepy.OAuthHandler(consumer_key, consumer_secret)\n",
    "auth.set_access_token(access_token, access_token_secret)\n",
    "api = tweepy.API(auth)"
   ]
  },
  {
   "cell_type": "code",
   "execution_count": 4,
   "metadata": {},
   "outputs": [],
   "source": [
    "# jfallon = api.user_timeline('jimmyfallon', count=50)"
   ]
  },
  {
   "cell_type": "code",
   "execution_count": 7,
   "metadata": {},
   "outputs": [
    {
     "name": "stdout",
     "output_type": "stream",
     "text": [
      "Around 11-ish I’m on with @RealSway on @Shade45. 769\n",
      "Tonight on #FallonFive: @desusandmero stop by to give their take on the Winter #Olympics! 1132\n",
      "I will be on @MorningMashUp around 10:45 this morning. Stay in your cars or wherever you listen to SiriusXM. Fun. 1174\n",
      "RT @FallonTonight: The first-ever Tonight Show one-minute interview with Paul Rudd! #FallonFive https://t.co/PhSF24oavv 0\n",
      "Ohhhhh #FallonFive happening tonight!! 12:05. @nbc let’s us have 5 minutes- Olympics jokes topical jokes. Check it… https://t.co/MTyo0380FO 1784\n",
      "I’m staying over. See you tomorrow. https://t.co/y9C4R5hjSv 2664\n",
      "RT @965tic: @jimmyfallon &amp; @paulruddcom are the Kings of Music Video Recreation https://t.co/htisiposxm 0\n",
      "Thank you man!! https://t.co/VHXDiOYOl0 1014\n",
      "Haaa!!! I will! I will! https://t.co/QmBh5R0DrW 2749\n",
      "Happy Valentine’s Day! 15678\n",
      "RT @FallonTonight: \"King of Wishful Thinking\" - Original &amp; Remake\n",
      "https://t.co/UFcE7jrJ3B 0\n",
      "I’m fine. How are you? Love back. https://t.co/zNsI3CLOnc 4814\n",
      "Totally. Go USA!!! https://t.co/Brzz6x4Sr9 1916\n",
      "Thanks again to #PaulRudd and #GoWest https://t.co/N24Yr4AviG 1823\n",
      "I tried my best. Do you know how hard it is to get Boy London biker shorts? Props to Tonight Show wardrobe and cost… https://t.co/YtfAPId3Ki 2628\n",
      "Made with love. Thanks for the original! Also, I have so many questions... https://t.co/PdnkAuvPzy 2202\n",
      "RT @FallonTonight: The cutting room floor is full of Paul Rudd's incredible dance moves from the remake of the \"King of Wishful Thinking\" m… 0\n",
      "\"King of Wishful Thinking\" with Paul Rudd https://t.co/crYpQOip4n #FallonTonight 2996\n",
      "Beat the best. #USA https://t.co/M66PUZpW5j 5087\n",
      "RT @FallonTonight: Jimmy gives a pep talk to Team USA before the Winter #Olympics. h/t Shia LaBeouf https://t.co/BpbHHnb2ju 0\n",
      "Tonight: Paul Rudd is here with a special music video remake, Laurie Metcalf stops by, and @AliceMerton performs! P… https://t.co/bJrbE5jbC9 1488\n",
      "Some of your funniest #WhyImSingle tweets https://t.co/G7Hbcfsd4o 4247\n",
      "Tonight: Andrew Garfield, @RachelBros, and stand-up from @bonniemcfarlane! Plus, your funniest #WhyImSingle tweets! #FallonTonight 1638\n",
      ".@TimTebow and I look at Tebow fan tattoos https://t.co/TjgEuTfbP7 #FallonTonight 1006\n",
      "I eat the top layer of my popcorn using only my tongue. #WhyImSingle 18835\n",
      "It's Hashtags time! Tweet out a funny or embarrassing reason why you're single and tag it with #WhyImSingle. Could be on the show! 5004\n",
      "Tonight on the show: Sienna Miller, @TimTebow, and music from @NoelGallagher's High Flying Birds! #FallonTonight 1355\n",
      "RT @FallonTonight: Jimmy talks to the @Eagles' @ZERTZ_86 about his #SuperBowl-winning touchdown. https://t.co/bhCuYnvbjZ 0\n",
      "Back in New York with a great show tonight! @SJP is here, @jessetyler stops by, and music from @diplo ft.… https://t.co/Uzbtz9Iejg 2165\n",
      "What an awesome trip! Thank you for hosting us, Minneapolis! When can I come back?? https://t.co/IrdYQp3eJb 5390\n",
      "RT @FallonTonight: Bob Dylan updates \"The Times They Are A-Changin'\" for 2018 #FallonLIVE https://t.co/qfCd4DGv3o 0\n",
      "Thank you Minneapolis! Good night. #FallonLIVE 11015\n",
      "LIVE in 10 minutes!!!! @jtimberlake, the cast of @NBCThisisUs, @TheRock and @ChrisStapleton. #FallonLIVE from Minneapolis! 5288\n",
      "RT @iamdannistarr: Seriously @nbc it’s like you don’t want us to sleep! #thisisus and that crazy lineup on @jimmyfallon ?!?!?! #howsway 0\n",
      "Getting ready - we are on LIVE in MN after @NBCThisisUs TONIGHT!!! #FallonLIVE 5484\n",
      "YESSSSS!!!! THAT IS HOW YOU DO IT!! Magic. Loved THAT! See you in a few. #PepsiHalftime #JustinTimberlake 46757\n",
      "Go get ‘em Justin. #PepsiHalftime #SBLII #JustinTimberlake 17190\n",
      "Have the parties started yet? Cheers!! @MNSuperBowl2018 @PEPSI #PepsiHalftime #FallonLIVE https://t.co/T3EWgoOhgh 4804\n",
      "You guys have been phenomenal. Keep it up - you’re almost at the homestretch. https://t.co/5kWxf9XraE 1964\n",
      "RT @StubHub: #StubhubPlaybook Rule 67: Invite @jimmyfallon to your pregame ✅ https://t.co/Iz7zvt434d 0\n",
      "Here!!! Town Ball!! https://t.co/Vx1wV1KkkN 3326\n",
      "On my way to Town Ball Tavern at Target Field. @FallonTonight is having a tailgating party!!!! Food, games, music,… https://t.co/NacXGjFQ6C 1568\n",
      "Off to Town Ball Tavern at Target Field. The Tonight Show is having a party. See you there! Happy #SuperBowlSunday https://t.co/4yHFHWwVUE 5223\n",
      "https://t.co/Wpx8XqtZys 5694\n",
      "@pepsi Oh I was scared. And cold. We did so many takes that my right had was frozen into a GI Joe Kung Fu grip arou… https://t.co/Gu3IbStBI2 3455\n",
      "Here is proof that I was really sitting ON the @Pepsi sign (harnessed to it actually) with a drone camera keeping m… https://t.co/HSM8PXuyNI 17216\n",
      "Watch in the mirror for full effect. See you tomorrow! #FallonLIVE https://t.co/lzA0Gzl0jS 6696\n",
      "@KevinHart4real I got the bug!!! Thanks for having me. That’s a crowd!!! #IrresponsibleTour #SuperBowlWeekend 586\n",
      "Thank you to the Salzer family in Champlin, MN for the best tater tot hot dish in town. You made me feel so welcome. 20009\n",
      "You guys are the best!!! So fun!! Thanks!! https://t.co/mHWZwUphLq 2539\n"
     ]
    }
   ],
   "source": [
    "for tweet in jfallon:\n",
    "    print('{}\\n{}\\n{}'.format(tweet.text, tweet.favorite_count, tweet.favorite))"
   ]
  },
  {
   "cell_type": "code",
   "execution_count": null,
   "metadata": {},
   "outputs": [],
   "source": []
  }
 ],
 "metadata": {
  "kernelspec": {
   "display_name": "Python 3",
   "language": "python",
   "name": "python3"
  },
  "language_info": {
   "codemirror_mode": {
    "name": "ipython",
    "version": 3
   },
   "file_extension": ".py",
   "mimetype": "text/x-python",
   "name": "python",
   "nbconvert_exporter": "python",
   "pygments_lexer": "ipython3",
   "version": "3.6.4"
  }
 },
 "nbformat": 4,
 "nbformat_minor": 2
}
