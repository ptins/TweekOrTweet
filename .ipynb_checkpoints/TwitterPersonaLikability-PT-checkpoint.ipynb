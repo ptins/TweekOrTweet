{
 "cells": [
  {
   "cell_type": "code",
   "execution_count": 1,
   "metadata": {},
   "outputs": [
    {
     "data": {
      "text/html": [
       "<script>requirejs.config({paths: { 'plotly': ['https://cdn.plot.ly/plotly-latest.min']},});if(!window.Plotly) {{require(['plotly'],function(plotly) {window.Plotly=plotly;});}}</script>"
      ],
      "text/vnd.plotly.v1+html": [
       "<script>requirejs.config({paths: { 'plotly': ['https://cdn.plot.ly/plotly-latest.min']},});if(!window.Plotly) {{require(['plotly'],function(plotly) {window.Plotly=plotly;});}}</script>"
      ]
     },
     "metadata": {},
     "output_type": "display_data"
    }
   ],
   "source": [
    "import re\n",
    "import tweepy\n",
    "from tweepy import OAuthHandler\n",
    "\n",
    "from textblob import TextBlob\n",
    "\n",
    "from pprint import pprint\n",
    "\n",
    "import pandas as pd\n",
    "\n",
    "from sklearn.cluster import k_means\n",
    "\n",
    "import plotly.plotly as py\n",
    "import plotly.graph_objs as go\n",
    "import plotly.offline as offline\n",
    "from plotly.offline import init_notebook_mode\n",
    "init_notebook_mode(connected=True)"
   ]
  },
  {
   "cell_type": "code",
   "execution_count": 2,
   "metadata": {},
   "outputs": [],
   "source": [
    "class TwitterClient(object):\n",
    "    '''\n",
    "    Generic Twitter Class for sentiment analysis.\n",
    "    '''\n",
    "    def __init__(self):\n",
    "        '''\n",
    "        Class constructor or initialization method.\n",
    "        '''\n",
    "        # keys and tokens from the Twitter Dev Console\n",
    "        consumer_key = 'n9LMcL7CRMtaTY5TXMp1VfIKo'\n",
    "        consumer_secret = 'G0ghn8E8TJPCKl29AfmA4019U1hq6NhGQFoMsJ05CARnmkeE7U'\n",
    "        access_token = '1959972582-gfpDYaAbKj7c412HOalcL0jQv0QdhJtgwZguXjl'\n",
    "        access_token_secret = 'nZJVEdDSHsCZvV8dvRtXBjOoDIzeKOSKyvtaavjeV5ARK'\n",
    " \n",
    "        self.auth = tweepy.OAuthHandler(consumer_key, consumer_secret)\n",
    "        self.auth.set_access_token(access_token, access_token_secret)\n",
    "        self.api  = tweepy.API(self.auth)\n",
    " \n",
    "    def clean_tweet(self, tweet):\n",
    "        '''\n",
    "        Utility function to clean tweet text by removing links, special characters\n",
    "        using simple regex statements.\n",
    "        '''\n",
    "        return ' '.join(re.sub(\"(@[A-Za-z0-9]+)|([^0-9A-Za-z \\t])|(\\w+:\\/\\/\\S+)\", \" \", tweet).split())\n",
    " \n",
    "    def get_tweet_sentiment(self, tweet):\n",
    "        '''\n",
    "        Utility function to classify sentiment of passed tweet\n",
    "        using textblob's sentiment method\n",
    "        '''\n",
    "        # create TextBlob object of passed tweet text\n",
    "        analysis = TextBlob(self.clean_tweet(tweet))\n",
    "        # set sentiment\n",
    "        if analysis.sentiment.polarity > 0:\n",
    "            return 'positive'\n",
    "        elif analysis.sentiment.polarity == 0:\n",
    "            return 'neutral'\n",
    "        else:\n",
    "            return 'negative'\n",
    " \n",
    "    def get_um_tweets(self, query, count = 200):\n",
    "        '''\n",
    "        Function to fetch user-mentioned tweets and parse them.\n",
    "        '''\n",
    "        # empty list to store parsed tweets\n",
    "        tweets = []\n",
    " \n",
    "        try:\n",
    "            # call twitter api to fetch tweets\n",
    "            fetched_tweets = self.api.search(q = query, count = count, tweet_mode = 'extended')\n",
    "     \n",
    "            # parsing tweets one by one\n",
    "            for tweet in fetched_tweets:\n",
    "                \n",
    "                # empty dictionary to store required params of a tweet\n",
    "                parsed_tweet = {}\n",
    " \n",
    "                # saving text of tweet\n",
    "                parsed_tweet['text'] = tweet.full_text\n",
    "                \n",
    "                # saving sentiment of tweet\n",
    "                parsed_tweet['sentiment'] = self.get_tweet_sentiment(tweet.full_text)\n",
    "                parsed_tweet['tweet_id'] = tweet.id\n",
    "                parsed_tweet['num_reactions'] = tweet.favorite_count+tweet.retweet_count\n",
    "                parsed_tweet['username'] = query\n",
    "                \n",
    "                \n",
    "                if parsed_tweet['sentiment']=='negative':\n",
    "                    parsed_tweet['net_sent'] = -1*parsed_tweet['num_reactions']\n",
    "                elif parsed_tweet['sentiment']=='positive':\n",
    "                    parsed_tweet['net_sent'] = parsed_tweet['num_reactions']\n",
    "                else:\n",
    "                    parsed_tweet['net_sent'] = 0\n",
    "                \n",
    "                # appending parsed tweet to tweets list\n",
    "                if tweet.retweet_count > 0:\n",
    "                    # if tweet has retweets, ensure that it is appended only once\n",
    "                    if parsed_tweet not in tweets:\n",
    "                        tweets.append(parsed_tweet)\n",
    "                else:\n",
    "                    tweets.append(parsed_tweet)\n",
    " \n",
    "            # return parsed tweets\n",
    "            return tweets\n",
    " \n",
    "        except tweepy.TweepError as e:\n",
    "            # print error (if any)\n",
    "            print(\"Error : \" + str(e))\n",
    "    \n",
    "    def get_own_tweets(self, screen_name, count = 200):\n",
    "        '''\n",
    "        Function to fetch own tweets and parse them.\n",
    "        '''\n",
    "        # empty list to store parsed tweets\n",
    "        tweets = []\n",
    "        \n",
    "        try:\n",
    "            # call twitter api to fetch tweets\n",
    "            fetched_tweets = self.api.user_timeline(screen_name = screen_name)\n",
    "     \n",
    "            # parsing tweets one by one\n",
    "            for tweet in fetched_tweets:\n",
    "                \n",
    "                # empty dictionary to store required params of a tweet\n",
    "                parsed_tweet = {}\n",
    " \n",
    "                # saving text/attributes of tweet\n",
    "                parsed_tweet['text'] = tweet.text\n",
    "                parsed_tweet['tweet_id'] = tweet.id\n",
    "                parsed_tweet['num_favorites'] = tweet.favorite_count\n",
    "                parsed_tweet['num_retweets'] = tweet.retweet_count\n",
    "                parsed_tweet['reaction_follower_ratio'] = (tweet.favorite_count+tweet.retweet_count) / tweet.user.followers_count\n",
    "                parsed_tweet['username'] = screen_name\n",
    "        \n",
    "                # appending parsed tweet to tweets list\n",
    "                tweets.append(parsed_tweet)\n",
    " \n",
    "            # return parsed tweets\n",
    "            return tweets\n",
    "    \n",
    "        except tweepy.TweepError as e:\n",
    "            # print error (if any)\n",
    "            print(\"Error : \" + str(e))"
   ]
  },
  {
   "cell_type": "code",
   "execution_count": 3,
   "metadata": {},
   "outputs": [],
   "source": [
    "def get_twitter_stats(screen_name):\n",
    "    \n",
    "    own_tweets = api.get_own_tweets(screen_name = screen_name)\n",
    "    own_df = pd.DataFrame(own_tweets)\n",
    "    own_df = own_df.set_index('tweet_id')\n",
    "    \n",
    "    ave_fav = own_df['num_favorites'].mean()\n",
    "    ave_rt  = own_df['num_retweets'].mean()\n",
    "    ave_rfr = own_df['reaction_follower_ratio'].mean()\n",
    "    # print('nFav: {}\\nnRT: {}\\n(nFav+nRT)/nFollowers: {}'.format(ave_fav, ave_rt, ave_rfr))\n",
    "    \n",
    "    um_tweets = api.get_um_tweets(query = screen_name)\n",
    "    \n",
    "    sentiment_df = pd.DataFrame(um_tweets)\n",
    "    sentiment_df = sentiment_df.set_index('tweet_id')\n",
    "    \n",
    "    ptweets = [tweet for tweet in um_tweets if tweet['sentiment'] == 'positive']\n",
    "    ntweets = [tweet for tweet in um_tweets if tweet['sentiment'] == 'negative']\n",
    "    \n",
    "    pos_perc = len(ptweets)/len(um_tweets)\n",
    "    neg_perc = len(ntweets)/len(um_tweets)\n",
    "    \n",
    "    if len(ntweets)==0:\n",
    "        pos_to_neg = pos_perc\n",
    "    else:\n",
    "        pos_to_neg = pos_perc/neg_perc\n",
    "    \n",
    "    neu_perc = 1-pos_perc-neg_perc\n",
    "    # print('Positive: {}\\nNegative: {}\\nNeutral: {}\\nPos/Neg: {}'.format(pos_perc, neg_perc, neu_perc, pos_to_neg))\n",
    "    \n",
    "    print([ave_fav, ave_rt, ave_rfr, pos_to_neg, screen_name])\n",
    "    return([ave_fav, ave_rt, ave_rfr, pos_to_neg, screen_name])"
   ]
  },
  {
   "cell_type": "code",
   "execution_count": 4,
   "metadata": {},
   "outputs": [],
   "source": [
    "def makeAxis(title): \n",
    "    return {\n",
    "      'title': title,\n",
    "      'titlefont': { 'size': 20 },\n",
    "      'tickfont': { 'size': 15 },\n",
    "      'tickcolor': 'rgba(0,0,0,0)',\n",
    "      'ticklen': 5,\n",
    "      'showline': True,\n",
    "      'showgrid': True\n",
    "    }\n",
    "\n",
    "def ternary_plot(df, category):\n",
    "\n",
    "    data = [{ \n",
    "        'type': 'scatterternary',\n",
    "        'mode': 'markers',\n",
    "        'a': df['ave_rt'],\n",
    "        'b': df['ave_rfr'],\n",
    "        'c': df['ave_fav'],\n",
    "        'text': df['username'],\n",
    "        'marker': {\n",
    "            'symbol': 'x',\n",
    "            'color': df['pos_to_neg'],\n",
    "            'autocolorscale': True,\n",
    "            'size': 12\n",
    "        }\n",
    "    }]\n",
    "\n",
    "    layout = {\n",
    "        'ternary': {\n",
    "            'sum': 1,\n",
    "            'aaxis': makeAxis('Retweets'),\n",
    "            'baxis': makeAxis('<br>RFR'),\n",
    "            'caxis': makeAxis('<br>Likes')\n",
    "        },\n",
    "        'annotations': [{\n",
    "          'showarrow': False,\n",
    "          'text': category,\n",
    "            'x': 0.5,\n",
    "            'y': 1.3,\n",
    "            'font': { 'size': 35 }\n",
    "        }]\n",
    "    }\n",
    "\n",
    "    fig = {'data': data, 'layout': layout}\n",
    "    offline.iplot(fig, validate=False)"
   ]
  },
  {
   "cell_type": "markdown",
   "metadata": {},
   "source": [
    "## Main"
   ]
  },
  {
   "cell_type": "code",
   "execution_count": 5,
   "metadata": {},
   "outputs": [],
   "source": [
    "api = TwitterClient()"
   ]
  },
  {
   "cell_type": "code",
   "execution_count": 6,
   "metadata": {},
   "outputs": [
    {
     "name": "stdout",
     "output_type": "stream",
     "text": [
      "[1793.75, 240.09999999999999, 0.0001603023111560194, 4.0, 'TheRock']\n"
     ]
    },
    {
     "data": {
      "text/plain": [
       "[1793.75, 240.09999999999999, 0.0001603023111560194, 4.0, 'TheRock']"
      ]
     },
     "execution_count": 6,
     "metadata": {},
     "output_type": "execute_result"
    }
   ],
   "source": [
    "get_twitter_stats('TheRock')"
   ]
  },
  {
   "cell_type": "code",
   "execution_count": 7,
   "metadata": {},
   "outputs": [],
   "source": [
    "# celeb_screen_names = ['TheRock','tomhanks','prattprattpratt','LeoDiCaprio','jimmyfallon']\n",
    "celeb_screen_names = ['TheRock','tomhanks','prattprattpratt','LeoDiCaprio','jimmyfallon',\n",
    "                      'HereIsGina','EmmaWatson','AnnaKendrick47','TheEllenShow','Oprah',\n",
    "                      'Caitlyn_Jenner','DrOz','piersmorgan','charliesheen','KevinSpacey',\n",
    "                      'chelseahandler','lindsaylohan','KimKardashian','GwynethPaltrow','_KrisJStewart']"
   ]
  },
  {
   "cell_type": "code",
   "execution_count": 8,
   "metadata": {},
   "outputs": [
    {
     "name": "stdout",
     "output_type": "stream",
     "text": [
      "[1793.75, 240.09999999999999, 0.0001603023111560194, 4.454545454545454, 'TheRock']\n",
      "[14467.299999999999, 1077.6500000000001, 0.0010146750751266666, 9.75, 'tomhanks']\n",
      "[19963.299999999999, 2760.0999999999999, 0.0043623402834290625, 5.75, 'prattprattpratt']\n",
      "[1998.5, 766.64999999999998, 0.00014387674287592503, 4.1, 'LeoDiCaprio']\n",
      "[4688.8999999999996, 557.14999999999998, 0.000103432953539271, 1.352941176470588, 'jimmyfallon']\n",
      "[2568.25, 342.69999999999999, 0.006338721302693839, 8.166666666666666, 'HereIsGina']\n",
      "[37149.099999999999, 6086.4499999999998, 0.001500905322353981, 3.3333333333333335, 'EmmaWatson']\n",
      "[25926.900000000001, 4934.3999999999996, 0.0043472467071275084, 0.3728813559322034, 'AnnaKendrick47']\n",
      "[6233.9499999999998, 851.14999999999998, 9.1719203595466313e-05, 4.625, 'TheEllenShow']\n",
      "[5837.3000000000002, 891.54999999999995, 0.00015983133558316768, 2.0, 'Oprah']\n",
      "[3996.0, 1218.7, 0.0013504411133661485, 0.7058823529411764, 'Caitlyn_Jenner']\n",
      "[72.5, 20.850000000000001, 2.1548301435229985e-05, 7.199999999999999, 'DrOz']\n",
      "[126.2, 61.950000000000003, 2.9163407774036056e-05, 2.846153846153846, 'piersmorgan']\n",
      "[1900.1500000000001, 383.19999999999999, 0.00018621933683129528, 3.5000000000000004, 'charliesheen']\n",
      "[11970.9, 2943.25, 0.0030436239535734677, 2.7857142857142856, 'KevinSpacey']\n",
      "[2069.5, 466.44999999999999, 0.00029082035433993718, 0.7560975609756098, 'chelseahandler']\n",
      "[361.57142857142856, 116.42857142857143, 5.1042800135402234e-05, 2.7500000000000004, 'lindsaylohan']\n",
      "[2877.25, 148.55000000000001, 5.1065542162631629e-05, 5.999999999999999, 'KimKardashian']\n",
      "[830.10000000000002, 140.34999999999999, 0.00033505999108532228, 9.0, 'GwynethPaltrow']\n",
      "[410.39999999999998, 257.0, 0.0013863557994707172, 3.545454545454545, '_KrisJStewart']\n"
     ]
    },
    {
     "data": {
      "text/html": [
       "<div>\n",
       "<style scoped>\n",
       "    .dataframe tbody tr th:only-of-type {\n",
       "        vertical-align: middle;\n",
       "    }\n",
       "\n",
       "    .dataframe tbody tr th {\n",
       "        vertical-align: top;\n",
       "    }\n",
       "\n",
       "    .dataframe thead th {\n",
       "        text-align: right;\n",
       "    }\n",
       "</style>\n",
       "<table border=\"1\" class=\"dataframe\">\n",
       "  <thead>\n",
       "    <tr style=\"text-align: right;\">\n",
       "      <th></th>\n",
       "      <th>ave_fav</th>\n",
       "      <th>ave_rt</th>\n",
       "      <th>ave_rfr</th>\n",
       "      <th>pos_to_neg</th>\n",
       "      <th>username</th>\n",
       "    </tr>\n",
       "  </thead>\n",
       "  <tbody>\n",
       "    <tr>\n",
       "      <th>0</th>\n",
       "      <td>1793.750000</td>\n",
       "      <td>240.100000</td>\n",
       "      <td>0.000160</td>\n",
       "      <td>4.454545</td>\n",
       "      <td>TheRock</td>\n",
       "    </tr>\n",
       "    <tr>\n",
       "      <th>1</th>\n",
       "      <td>14467.300000</td>\n",
       "      <td>1077.650000</td>\n",
       "      <td>0.001015</td>\n",
       "      <td>9.750000</td>\n",
       "      <td>tomhanks</td>\n",
       "    </tr>\n",
       "    <tr>\n",
       "      <th>2</th>\n",
       "      <td>19963.300000</td>\n",
       "      <td>2760.100000</td>\n",
       "      <td>0.004362</td>\n",
       "      <td>5.750000</td>\n",
       "      <td>prattprattpratt</td>\n",
       "    </tr>\n",
       "    <tr>\n",
       "      <th>3</th>\n",
       "      <td>1998.500000</td>\n",
       "      <td>766.650000</td>\n",
       "      <td>0.000144</td>\n",
       "      <td>4.100000</td>\n",
       "      <td>LeoDiCaprio</td>\n",
       "    </tr>\n",
       "    <tr>\n",
       "      <th>4</th>\n",
       "      <td>4688.900000</td>\n",
       "      <td>557.150000</td>\n",
       "      <td>0.000103</td>\n",
       "      <td>1.352941</td>\n",
       "      <td>jimmyfallon</td>\n",
       "    </tr>\n",
       "    <tr>\n",
       "      <th>5</th>\n",
       "      <td>2568.250000</td>\n",
       "      <td>342.700000</td>\n",
       "      <td>0.006339</td>\n",
       "      <td>8.166667</td>\n",
       "      <td>HereIsGina</td>\n",
       "    </tr>\n",
       "    <tr>\n",
       "      <th>6</th>\n",
       "      <td>37149.100000</td>\n",
       "      <td>6086.450000</td>\n",
       "      <td>0.001501</td>\n",
       "      <td>3.333333</td>\n",
       "      <td>EmmaWatson</td>\n",
       "    </tr>\n",
       "    <tr>\n",
       "      <th>7</th>\n",
       "      <td>25926.900000</td>\n",
       "      <td>4934.400000</td>\n",
       "      <td>0.004347</td>\n",
       "      <td>0.372881</td>\n",
       "      <td>AnnaKendrick47</td>\n",
       "    </tr>\n",
       "    <tr>\n",
       "      <th>8</th>\n",
       "      <td>6233.950000</td>\n",
       "      <td>851.150000</td>\n",
       "      <td>0.000092</td>\n",
       "      <td>4.625000</td>\n",
       "      <td>TheEllenShow</td>\n",
       "    </tr>\n",
       "    <tr>\n",
       "      <th>9</th>\n",
       "      <td>5837.300000</td>\n",
       "      <td>891.550000</td>\n",
       "      <td>0.000160</td>\n",
       "      <td>2.000000</td>\n",
       "      <td>Oprah</td>\n",
       "    </tr>\n",
       "    <tr>\n",
       "      <th>10</th>\n",
       "      <td>3996.000000</td>\n",
       "      <td>1218.700000</td>\n",
       "      <td>0.001350</td>\n",
       "      <td>0.705882</td>\n",
       "      <td>Caitlyn_Jenner</td>\n",
       "    </tr>\n",
       "    <tr>\n",
       "      <th>11</th>\n",
       "      <td>72.500000</td>\n",
       "      <td>20.850000</td>\n",
       "      <td>0.000022</td>\n",
       "      <td>7.200000</td>\n",
       "      <td>DrOz</td>\n",
       "    </tr>\n",
       "    <tr>\n",
       "      <th>12</th>\n",
       "      <td>126.200000</td>\n",
       "      <td>61.950000</td>\n",
       "      <td>0.000029</td>\n",
       "      <td>2.846154</td>\n",
       "      <td>piersmorgan</td>\n",
       "    </tr>\n",
       "    <tr>\n",
       "      <th>13</th>\n",
       "      <td>1900.150000</td>\n",
       "      <td>383.200000</td>\n",
       "      <td>0.000186</td>\n",
       "      <td>3.500000</td>\n",
       "      <td>charliesheen</td>\n",
       "    </tr>\n",
       "    <tr>\n",
       "      <th>14</th>\n",
       "      <td>11970.900000</td>\n",
       "      <td>2943.250000</td>\n",
       "      <td>0.003044</td>\n",
       "      <td>2.785714</td>\n",
       "      <td>KevinSpacey</td>\n",
       "    </tr>\n",
       "    <tr>\n",
       "      <th>15</th>\n",
       "      <td>2069.500000</td>\n",
       "      <td>466.450000</td>\n",
       "      <td>0.000291</td>\n",
       "      <td>0.756098</td>\n",
       "      <td>chelseahandler</td>\n",
       "    </tr>\n",
       "    <tr>\n",
       "      <th>16</th>\n",
       "      <td>361.571429</td>\n",
       "      <td>116.428571</td>\n",
       "      <td>0.000051</td>\n",
       "      <td>2.750000</td>\n",
       "      <td>lindsaylohan</td>\n",
       "    </tr>\n",
       "    <tr>\n",
       "      <th>17</th>\n",
       "      <td>2877.250000</td>\n",
       "      <td>148.550000</td>\n",
       "      <td>0.000051</td>\n",
       "      <td>6.000000</td>\n",
       "      <td>KimKardashian</td>\n",
       "    </tr>\n",
       "    <tr>\n",
       "      <th>18</th>\n",
       "      <td>830.100000</td>\n",
       "      <td>140.350000</td>\n",
       "      <td>0.000335</td>\n",
       "      <td>9.000000</td>\n",
       "      <td>GwynethPaltrow</td>\n",
       "    </tr>\n",
       "    <tr>\n",
       "      <th>19</th>\n",
       "      <td>410.400000</td>\n",
       "      <td>257.000000</td>\n",
       "      <td>0.001386</td>\n",
       "      <td>3.545455</td>\n",
       "      <td>_KrisJStewart</td>\n",
       "    </tr>\n",
       "  </tbody>\n",
       "</table>\n",
       "</div>"
      ],
      "text/plain": [
       "         ave_fav       ave_rt   ave_rfr  pos_to_neg         username\n",
       "0    1793.750000   240.100000  0.000160    4.454545          TheRock\n",
       "1   14467.300000  1077.650000  0.001015    9.750000         tomhanks\n",
       "2   19963.300000  2760.100000  0.004362    5.750000  prattprattpratt\n",
       "3    1998.500000   766.650000  0.000144    4.100000      LeoDiCaprio\n",
       "4    4688.900000   557.150000  0.000103    1.352941      jimmyfallon\n",
       "5    2568.250000   342.700000  0.006339    8.166667       HereIsGina\n",
       "6   37149.100000  6086.450000  0.001501    3.333333       EmmaWatson\n",
       "7   25926.900000  4934.400000  0.004347    0.372881   AnnaKendrick47\n",
       "8    6233.950000   851.150000  0.000092    4.625000     TheEllenShow\n",
       "9    5837.300000   891.550000  0.000160    2.000000            Oprah\n",
       "10   3996.000000  1218.700000  0.001350    0.705882   Caitlyn_Jenner\n",
       "11     72.500000    20.850000  0.000022    7.200000             DrOz\n",
       "12    126.200000    61.950000  0.000029    2.846154      piersmorgan\n",
       "13   1900.150000   383.200000  0.000186    3.500000     charliesheen\n",
       "14  11970.900000  2943.250000  0.003044    2.785714      KevinSpacey\n",
       "15   2069.500000   466.450000  0.000291    0.756098   chelseahandler\n",
       "16    361.571429   116.428571  0.000051    2.750000     lindsaylohan\n",
       "17   2877.250000   148.550000  0.000051    6.000000    KimKardashian\n",
       "18    830.100000   140.350000  0.000335    9.000000   GwynethPaltrow\n",
       "19    410.400000   257.000000  0.001386    3.545455    _KrisJStewart"
      ]
     },
     "execution_count": 8,
     "metadata": {},
     "output_type": "execute_result"
    }
   ],
   "source": [
    "celeb_list = []\n",
    "for name in celeb_screen_names:\n",
    "    celeb_list.append(get_twitter_stats(name))\n",
    "celeb_df = pd.DataFrame(celeb_list, columns=['ave_fav','ave_rt','ave_rfr','pos_to_neg','username'])\n",
    "celeb_df"
   ]
  },
  {
   "cell_type": "code",
   "execution_count": 9,
   "metadata": {},
   "outputs": [
    {
     "data": {
      "text/html": [
       "<div>\n",
       "<style scoped>\n",
       "    .dataframe tbody tr th:only-of-type {\n",
       "        vertical-align: middle;\n",
       "    }\n",
       "\n",
       "    .dataframe tbody tr th {\n",
       "        vertical-align: top;\n",
       "    }\n",
       "\n",
       "    .dataframe thead th {\n",
       "        text-align: right;\n",
       "    }\n",
       "</style>\n",
       "<table border=\"1\" class=\"dataframe\">\n",
       "  <thead>\n",
       "    <tr style=\"text-align: right;\">\n",
       "      <th></th>\n",
       "      <th>ave_fav</th>\n",
       "      <th>ave_rt</th>\n",
       "      <th>ave_rfr</th>\n",
       "      <th>pos_to_neg</th>\n",
       "      <th>username</th>\n",
       "    </tr>\n",
       "  </thead>\n",
       "  <tbody>\n",
       "    <tr>\n",
       "      <th>0</th>\n",
       "      <td>-0.147488</td>\n",
       "      <td>-0.160434</td>\n",
       "      <td>-0.172248</td>\n",
       "      <td>0.032506</td>\n",
       "      <td>TheRock</td>\n",
       "    </tr>\n",
       "    <tr>\n",
       "      <th>1</th>\n",
       "      <td>0.194333</td>\n",
       "      <td>-0.022353</td>\n",
       "      <td>-0.037001</td>\n",
       "      <td>0.597227</td>\n",
       "      <td>tomhanks</td>\n",
       "    </tr>\n",
       "    <tr>\n",
       "      <th>2</th>\n",
       "      <td>0.342567</td>\n",
       "      <td>0.255023</td>\n",
       "      <td>0.492929</td>\n",
       "      <td>0.170657</td>\n",
       "      <td>prattprattpratt</td>\n",
       "    </tr>\n",
       "    <tr>\n",
       "      <th>3</th>\n",
       "      <td>-0.141965</td>\n",
       "      <td>-0.073625</td>\n",
       "      <td>-0.174848</td>\n",
       "      <td>-0.005304</td>\n",
       "      <td>LeoDiCaprio</td>\n",
       "    </tr>\n",
       "    <tr>\n",
       "      <th>4</th>\n",
       "      <td>-0.069402</td>\n",
       "      <td>-0.108164</td>\n",
       "      <td>-0.181250</td>\n",
       "      <td>-0.298257</td>\n",
       "      <td>jimmyfallon</td>\n",
       "    </tr>\n",
       "    <tr>\n",
       "      <th>5</th>\n",
       "      <td>-0.126598</td>\n",
       "      <td>-0.143519</td>\n",
       "      <td>0.805788</td>\n",
       "      <td>0.428376</td>\n",
       "      <td>HereIsGina</td>\n",
       "    </tr>\n",
       "    <tr>\n",
       "      <th>6</th>\n",
       "      <td>0.806088</td>\n",
       "      <td>0.803419</td>\n",
       "      <td>0.039968</td>\n",
       "      <td>-0.087063</td>\n",
       "      <td>EmmaWatson</td>\n",
       "    </tr>\n",
       "    <tr>\n",
       "      <th>7</th>\n",
       "      <td>0.503412</td>\n",
       "      <td>0.613487</td>\n",
       "      <td>0.490540</td>\n",
       "      <td>-0.402773</td>\n",
       "      <td>AnnaKendrick47</td>\n",
       "    </tr>\n",
       "    <tr>\n",
       "      <th>8</th>\n",
       "      <td>-0.027730</td>\n",
       "      <td>-0.059694</td>\n",
       "      <td>-0.183104</td>\n",
       "      <td>0.050684</td>\n",
       "      <td>TheEllenShow</td>\n",
       "    </tr>\n",
       "    <tr>\n",
       "      <th>9</th>\n",
       "      <td>-0.038428</td>\n",
       "      <td>-0.053034</td>\n",
       "      <td>-0.172322</td>\n",
       "      <td>-0.229253</td>\n",
       "      <td>Oprah</td>\n",
       "    </tr>\n",
       "    <tr>\n",
       "      <th>10</th>\n",
       "      <td>-0.088090</td>\n",
       "      <td>0.000902</td>\n",
       "      <td>0.016150</td>\n",
       "      <td>-0.367261</td>\n",
       "      <td>Caitlyn_Jenner</td>\n",
       "    </tr>\n",
       "    <tr>\n",
       "      <th>11</th>\n",
       "      <td>-0.193912</td>\n",
       "      <td>-0.196581</td>\n",
       "      <td>-0.194212</td>\n",
       "      <td>0.325288</td>\n",
       "      <td>DrOz</td>\n",
       "    </tr>\n",
       "    <tr>\n",
       "      <th>12</th>\n",
       "      <td>-0.192463</td>\n",
       "      <td>-0.189805</td>\n",
       "      <td>-0.193007</td>\n",
       "      <td>-0.139017</td>\n",
       "      <td>piersmorgan</td>\n",
       "    </tr>\n",
       "    <tr>\n",
       "      <th>13</th>\n",
       "      <td>-0.144618</td>\n",
       "      <td>-0.136842</td>\n",
       "      <td>-0.168145</td>\n",
       "      <td>-0.069289</td>\n",
       "      <td>charliesheen</td>\n",
       "    </tr>\n",
       "    <tr>\n",
       "      <th>14</th>\n",
       "      <td>0.127002</td>\n",
       "      <td>0.285218</td>\n",
       "      <td>0.284178</td>\n",
       "      <td>-0.145463</td>\n",
       "      <td>KevinSpacey</td>\n",
       "    </tr>\n",
       "    <tr>\n",
       "      <th>15</th>\n",
       "      <td>-0.140050</td>\n",
       "      <td>-0.123117</td>\n",
       "      <td>-0.151587</td>\n",
       "      <td>-0.361906</td>\n",
       "      <td>chelseahandler</td>\n",
       "    </tr>\n",
       "    <tr>\n",
       "      <th>16</th>\n",
       "      <td>-0.186115</td>\n",
       "      <td>-0.180823</td>\n",
       "      <td>-0.189543</td>\n",
       "      <td>-0.149271</td>\n",
       "      <td>lindsaylohan</td>\n",
       "    </tr>\n",
       "    <tr>\n",
       "      <th>17</th>\n",
       "      <td>-0.118264</td>\n",
       "      <td>-0.175528</td>\n",
       "      <td>-0.189540</td>\n",
       "      <td>0.197317</td>\n",
       "      <td>KimKardashian</td>\n",
       "    </tr>\n",
       "    <tr>\n",
       "      <th>18</th>\n",
       "      <td>-0.173478</td>\n",
       "      <td>-0.176880</td>\n",
       "      <td>-0.144584</td>\n",
       "      <td>0.517245</td>\n",
       "      <td>GwynethPaltrow</td>\n",
       "    </tr>\n",
       "    <tr>\n",
       "      <th>19</th>\n",
       "      <td>-0.184798</td>\n",
       "      <td>-0.157648</td>\n",
       "      <td>0.021835</td>\n",
       "      <td>-0.064442</td>\n",
       "      <td>_KrisJStewart</td>\n",
       "    </tr>\n",
       "  </tbody>\n",
       "</table>\n",
       "</div>"
      ],
      "text/plain": [
       "     ave_fav    ave_rt   ave_rfr  pos_to_neg         username\n",
       "0  -0.147488 -0.160434 -0.172248    0.032506          TheRock\n",
       "1   0.194333 -0.022353 -0.037001    0.597227         tomhanks\n",
       "2   0.342567  0.255023  0.492929    0.170657  prattprattpratt\n",
       "3  -0.141965 -0.073625 -0.174848   -0.005304      LeoDiCaprio\n",
       "4  -0.069402 -0.108164 -0.181250   -0.298257      jimmyfallon\n",
       "5  -0.126598 -0.143519  0.805788    0.428376       HereIsGina\n",
       "6   0.806088  0.803419  0.039968   -0.087063       EmmaWatson\n",
       "7   0.503412  0.613487  0.490540   -0.402773   AnnaKendrick47\n",
       "8  -0.027730 -0.059694 -0.183104    0.050684     TheEllenShow\n",
       "9  -0.038428 -0.053034 -0.172322   -0.229253            Oprah\n",
       "10 -0.088090  0.000902  0.016150   -0.367261   Caitlyn_Jenner\n",
       "11 -0.193912 -0.196581 -0.194212    0.325288             DrOz\n",
       "12 -0.192463 -0.189805 -0.193007   -0.139017      piersmorgan\n",
       "13 -0.144618 -0.136842 -0.168145   -0.069289     charliesheen\n",
       "14  0.127002  0.285218  0.284178   -0.145463      KevinSpacey\n",
       "15 -0.140050 -0.123117 -0.151587   -0.361906   chelseahandler\n",
       "16 -0.186115 -0.180823 -0.189543   -0.149271     lindsaylohan\n",
       "17 -0.118264 -0.175528 -0.189540    0.197317    KimKardashian\n",
       "18 -0.173478 -0.176880 -0.144584    0.517245   GwynethPaltrow\n",
       "19 -0.184798 -0.157648  0.021835   -0.064442    _KrisJStewart"
      ]
     },
     "execution_count": 9,
     "metadata": {},
     "output_type": "execute_result"
    }
   ],
   "source": [
    "tmp = celeb_df.drop('username', axis=1)\n",
    "celeb_df_norm = (tmp - tmp.mean()) / (tmp.max() - tmp.min())\n",
    "celeb_df_norm['username'] = celeb_df['username']\n",
    "celeb_df_norm"
   ]
  },
  {
   "cell_type": "code",
   "execution_count": 10,
   "metadata": {},
   "outputs": [
    {
     "data": {
      "application/vnd.plotly.v1+json": {
       "data": [
        {
         "a": [
          -0.16043448769642388,
          -0.022352517240079868,
          0.2550231751893583,
          -0.07362526849304744,
          -0.10816430832422656,
          -0.14351942570750273,
          0.8034190469909938,
          0.6134873007498964,
          -0.059694247654218636,
          -0.05303373591589102,
          0.0009015713908882094,
          -0.19658095300900633,
          -0.18980503636432153,
          -0.13684242755398124,
          0.28521804461694994,
          -0.12311748690507593,
          -0.18082347288691264,
          -0.17552780080642125,
          -0.17687968685231942,
          -0.15764828352865812
         ],
         "b": [
          -0.17224750382963125,
          -0.03700144300457147,
          0.4929294624234451,
          -0.17484764922327833,
          -0.18124984674558714,
          0.8057879228251168,
          0.03996815195989123,
          0.49054016957068536,
          -0.18310411762616474,
          -0.17232205863013425,
          0.016149869801423408,
          -0.1942120771748831,
          -0.19300661607111264,
          -0.16814487348056334,
          0.2841784388892062,
          -0.15158667292347847,
          -0.18954313765172995,
          -0.18953953761936976,
          -0.144583597855474,
          0.021835116366210095
         ],
         "c": [
          -0.14748766260737423,
          0.19433305450260888,
          0.3425667113104068,
          -0.14196531158273873,
          -0.06940202368686911,
          -0.12659847643604244,
          0.8060881776800307,
          0.5034120962701928,
          -0.027730187542238802,
          -0.03842830980803447,
          -0.08809036080515935,
          -0.19391182231996923,
          -0.1924634694505044,
          -0.14461792805782006,
          0.12700217734558802,
          -0.14005035713707759,
          -0.1861152220769203,
          -0.11826437891901014,
          -0.17347844924908354,
          -0.18479825742998474
         ],
         "marker": {
          "autocolorscale": true,
          "color": [
           0.032505926095848306,
           0.5972267904100249,
           0.1706565238036083,
           -0.005303711171538618,
           -0.29825711485565126,
           0.4283760598783183,
           -0.08706301227110176,
           -0.40277320958997515,
           0.05068363632055361,
           -0.22925310113990732,
           -0.36726112857139503,
           0.32528824544843427,
           -0.1390170832039346,
           -0.06928925116250104,
           -0.14546251305650407,
           -0.36190604990165887,
           -0.14927117615120417,
           0.19731716546650924,
           0.5172448654213219,
           -0.06444186176924639
          ],
          "size": 12,
          "symbol": "x"
         },
         "mode": "markers",
         "text": [
          "TheRock",
          "tomhanks",
          "prattprattpratt",
          "LeoDiCaprio",
          "jimmyfallon",
          "HereIsGina",
          "EmmaWatson",
          "AnnaKendrick47",
          "TheEllenShow",
          "Oprah",
          "Caitlyn_Jenner",
          "DrOz",
          "piersmorgan",
          "charliesheen",
          "KevinSpacey",
          "chelseahandler",
          "lindsaylohan",
          "KimKardashian",
          "GwynethPaltrow",
          "_KrisJStewart"
         ],
         "type": "scatterternary"
        }
       ],
       "layout": {
        "annotations": [
         {
          "font": {
           "size": 35
          },
          "showarrow": false,
          "text": "Celebrities",
          "x": 0.5,
          "y": 1.3
         }
        ],
        "ternary": {
         "aaxis": {
          "showgrid": true,
          "showline": true,
          "tickcolor": "rgba(0,0,0,0)",
          "tickfont": {
           "size": 15
          },
          "ticklen": 5,
          "title": "Retweets",
          "titlefont": {
           "size": 20
          }
         },
         "baxis": {
          "showgrid": true,
          "showline": true,
          "tickcolor": "rgba(0,0,0,0)",
          "tickfont": {
           "size": 15
          },
          "ticklen": 5,
          "title": "<br>RFR",
          "titlefont": {
           "size": 20
          }
         },
         "caxis": {
          "showgrid": true,
          "showline": true,
          "tickcolor": "rgba(0,0,0,0)",
          "tickfont": {
           "size": 15
          },
          "ticklen": 5,
          "title": "<br>Likes",
          "titlefont": {
           "size": 20
          }
         },
         "sum": 1
        }
       }
      },
      "text/html": [
       "<div id=\"ae247f7a-9df6-47ad-8a99-caa7995fb122\" style=\"height: 525px; width: 100%;\" class=\"plotly-graph-div\"></div><script type=\"text/javascript\">require([\"plotly\"], function(Plotly) { window.PLOTLYENV=window.PLOTLYENV || {};window.PLOTLYENV.BASE_URL=\"https://plot.ly\";Plotly.newPlot(\"ae247f7a-9df6-47ad-8a99-caa7995fb122\", [{\"type\": \"scatterternary\", \"mode\": \"markers\", \"a\": [-0.16043448769642388, -0.022352517240079868, 0.2550231751893583, -0.07362526849304744, -0.10816430832422656, -0.14351942570750273, 0.8034190469909938, 0.6134873007498964, -0.059694247654218636, -0.05303373591589102, 0.0009015713908882094, -0.19658095300900633, -0.18980503636432153, -0.13684242755398124, 0.28521804461694994, -0.12311748690507593, -0.18082347288691264, -0.17552780080642125, -0.17687968685231942, -0.15764828352865812], \"b\": [-0.17224750382963125, -0.03700144300457147, 0.4929294624234451, -0.17484764922327833, -0.18124984674558714, 0.8057879228251168, 0.03996815195989123, 0.49054016957068536, -0.18310411762616474, -0.17232205863013425, 0.016149869801423408, -0.1942120771748831, -0.19300661607111264, -0.16814487348056334, 0.2841784388892062, -0.15158667292347847, -0.18954313765172995, -0.18953953761936976, -0.144583597855474, 0.021835116366210095], \"c\": [-0.14748766260737423, 0.19433305450260888, 0.3425667113104068, -0.14196531158273873, -0.06940202368686911, -0.12659847643604244, 0.8060881776800307, 0.5034120962701928, -0.027730187542238802, -0.03842830980803447, -0.08809036080515935, -0.19391182231996923, -0.1924634694505044, -0.14461792805782006, 0.12700217734558802, -0.14005035713707759, -0.1861152220769203, -0.11826437891901014, -0.17347844924908354, -0.18479825742998474], \"text\": [\"TheRock\", \"tomhanks\", \"prattprattpratt\", \"LeoDiCaprio\", \"jimmyfallon\", \"HereIsGina\", \"EmmaWatson\", \"AnnaKendrick47\", \"TheEllenShow\", \"Oprah\", \"Caitlyn_Jenner\", \"DrOz\", \"piersmorgan\", \"charliesheen\", \"KevinSpacey\", \"chelseahandler\", \"lindsaylohan\", \"KimKardashian\", \"GwynethPaltrow\", \"_KrisJStewart\"], \"marker\": {\"symbol\": \"x\", \"color\": [0.032505926095848306, 0.5972267904100249, 0.1706565238036083, -0.005303711171538618, -0.29825711485565126, 0.4283760598783183, -0.08706301227110176, -0.40277320958997515, 0.05068363632055361, -0.22925310113990732, -0.36726112857139503, 0.32528824544843427, -0.1390170832039346, -0.06928925116250104, -0.14546251305650407, -0.36190604990165887, -0.14927117615120417, 0.19731716546650924, 0.5172448654213219, -0.06444186176924639], \"autocolorscale\": true, \"size\": 12}}], {\"ternary\": {\"sum\": 1, \"aaxis\": {\"title\": \"Retweets\", \"titlefont\": {\"size\": 20}, \"tickfont\": {\"size\": 15}, \"tickcolor\": \"rgba(0,0,0,0)\", \"ticklen\": 5, \"showline\": true, \"showgrid\": true}, \"baxis\": {\"title\": \"<br>RFR\", \"titlefont\": {\"size\": 20}, \"tickfont\": {\"size\": 15}, \"tickcolor\": \"rgba(0,0,0,0)\", \"ticklen\": 5, \"showline\": true, \"showgrid\": true}, \"caxis\": {\"title\": \"<br>Likes\", \"titlefont\": {\"size\": 20}, \"tickfont\": {\"size\": 15}, \"tickcolor\": \"rgba(0,0,0,0)\", \"ticklen\": 5, \"showline\": true, \"showgrid\": true}}, \"annotations\": [{\"showarrow\": false, \"text\": \"Celebrities\", \"x\": 0.5, \"y\": 1.3, \"font\": {\"size\": 35}}]}, {\"showLink\": true, \"linkText\": \"Export to plot.ly\"})});</script>"
      ],
      "text/vnd.plotly.v1+html": [
       "<div id=\"ae247f7a-9df6-47ad-8a99-caa7995fb122\" style=\"height: 525px; width: 100%;\" class=\"plotly-graph-div\"></div><script type=\"text/javascript\">require([\"plotly\"], function(Plotly) { window.PLOTLYENV=window.PLOTLYENV || {};window.PLOTLYENV.BASE_URL=\"https://plot.ly\";Plotly.newPlot(\"ae247f7a-9df6-47ad-8a99-caa7995fb122\", [{\"type\": \"scatterternary\", \"mode\": \"markers\", \"a\": [-0.16043448769642388, -0.022352517240079868, 0.2550231751893583, -0.07362526849304744, -0.10816430832422656, -0.14351942570750273, 0.8034190469909938, 0.6134873007498964, -0.059694247654218636, -0.05303373591589102, 0.0009015713908882094, -0.19658095300900633, -0.18980503636432153, -0.13684242755398124, 0.28521804461694994, -0.12311748690507593, -0.18082347288691264, -0.17552780080642125, -0.17687968685231942, -0.15764828352865812], \"b\": [-0.17224750382963125, -0.03700144300457147, 0.4929294624234451, -0.17484764922327833, -0.18124984674558714, 0.8057879228251168, 0.03996815195989123, 0.49054016957068536, -0.18310411762616474, -0.17232205863013425, 0.016149869801423408, -0.1942120771748831, -0.19300661607111264, -0.16814487348056334, 0.2841784388892062, -0.15158667292347847, -0.18954313765172995, -0.18953953761936976, -0.144583597855474, 0.021835116366210095], \"c\": [-0.14748766260737423, 0.19433305450260888, 0.3425667113104068, -0.14196531158273873, -0.06940202368686911, -0.12659847643604244, 0.8060881776800307, 0.5034120962701928, -0.027730187542238802, -0.03842830980803447, -0.08809036080515935, -0.19391182231996923, -0.1924634694505044, -0.14461792805782006, 0.12700217734558802, -0.14005035713707759, -0.1861152220769203, -0.11826437891901014, -0.17347844924908354, -0.18479825742998474], \"text\": [\"TheRock\", \"tomhanks\", \"prattprattpratt\", \"LeoDiCaprio\", \"jimmyfallon\", \"HereIsGina\", \"EmmaWatson\", \"AnnaKendrick47\", \"TheEllenShow\", \"Oprah\", \"Caitlyn_Jenner\", \"DrOz\", \"piersmorgan\", \"charliesheen\", \"KevinSpacey\", \"chelseahandler\", \"lindsaylohan\", \"KimKardashian\", \"GwynethPaltrow\", \"_KrisJStewart\"], \"marker\": {\"symbol\": \"x\", \"color\": [0.032505926095848306, 0.5972267904100249, 0.1706565238036083, -0.005303711171538618, -0.29825711485565126, 0.4283760598783183, -0.08706301227110176, -0.40277320958997515, 0.05068363632055361, -0.22925310113990732, -0.36726112857139503, 0.32528824544843427, -0.1390170832039346, -0.06928925116250104, -0.14546251305650407, -0.36190604990165887, -0.14927117615120417, 0.19731716546650924, 0.5172448654213219, -0.06444186176924639], \"autocolorscale\": true, \"size\": 12}}], {\"ternary\": {\"sum\": 1, \"aaxis\": {\"title\": \"Retweets\", \"titlefont\": {\"size\": 20}, \"tickfont\": {\"size\": 15}, \"tickcolor\": \"rgba(0,0,0,0)\", \"ticklen\": 5, \"showline\": true, \"showgrid\": true}, \"baxis\": {\"title\": \"<br>RFR\", \"titlefont\": {\"size\": 20}, \"tickfont\": {\"size\": 15}, \"tickcolor\": \"rgba(0,0,0,0)\", \"ticklen\": 5, \"showline\": true, \"showgrid\": true}, \"caxis\": {\"title\": \"<br>Likes\", \"titlefont\": {\"size\": 20}, \"tickfont\": {\"size\": 15}, \"tickcolor\": \"rgba(0,0,0,0)\", \"ticklen\": 5, \"showline\": true, \"showgrid\": true}}, \"annotations\": [{\"showarrow\": false, \"text\": \"Celebrities\", \"x\": 0.5, \"y\": 1.3, \"font\": {\"size\": 35}}]}, {\"showLink\": true, \"linkText\": \"Export to plot.ly\"})});</script>"
      ]
     },
     "metadata": {},
     "output_type": "display_data"
    }
   ],
   "source": [
    "ternary_plot(celeb_df_norm, 'Celebrities')"
   ]
  },
  {
   "cell_type": "code",
   "execution_count": 21,
   "metadata": {},
   "outputs": [
    {
     "name": "stdout",
     "output_type": "stream",
     "text": [
      "[5110.25, 1063.7, 0.0011052324426121219, 2.9999999999999996, 'russwest44']\n",
      "[28925.450000000001, 5377.3000000000002, 0.00083567441460706082, 41.5, 'KingJames']\n",
      "[19321.450000000001, 2362.3499999999999, 0.0033933348617356655, 31.5, 'TigerWoods']\n"
     ]
    },
    {
     "data": {
      "application/vnd.plotly.v1+json": {
       "data": [
        {
         "a": [
          -0.43368647997032644,
          0.5663135200296735,
          -0.13262704005934725
         ],
         "b": [
          -0.26307171897200454,
          -0.36846414051399784,
          0.6315358594860021
         ],
         "c": [
          -0.5322427133371402,
          0.4677572866628597,
          0.06448542667428102
         ],
         "marker": {
          "autocolorscale": true,
          "color": [
           -0.5800865800865801,
           0.41991341991341996,
           0.16017316017316022
          ],
          "size": 12,
          "symbol": "x"
         },
         "mode": "markers",
         "text": [
          "russwest44",
          "KingJames",
          "TigerWoods"
         ],
         "type": "scatterternary"
        }
       ],
       "layout": {
        "annotations": [
         {
          "font": {
           "size": 35
          },
          "showarrow": false,
          "text": "Athletes",
          "x": 0.5,
          "y": 1.3
         }
        ],
        "ternary": {
         "aaxis": {
          "showgrid": true,
          "showline": true,
          "tickcolor": "rgba(0,0,0,0)",
          "tickfont": {
           "size": 15
          },
          "ticklen": 5,
          "title": "Retweets",
          "titlefont": {
           "size": 20
          }
         },
         "baxis": {
          "showgrid": true,
          "showline": true,
          "tickcolor": "rgba(0,0,0,0)",
          "tickfont": {
           "size": 15
          },
          "ticklen": 5,
          "title": "<br>RFR",
          "titlefont": {
           "size": 20
          }
         },
         "caxis": {
          "showgrid": true,
          "showline": true,
          "tickcolor": "rgba(0,0,0,0)",
          "tickfont": {
           "size": 15
          },
          "ticklen": 5,
          "title": "<br>Likes",
          "titlefont": {
           "size": 20
          }
         },
         "sum": 1
        }
       }
      },
      "text/html": [
       "<div id=\"179ac3c7-1696-4b2d-91d8-44ef0a31bf76\" style=\"height: 525px; width: 100%;\" class=\"plotly-graph-div\"></div><script type=\"text/javascript\">require([\"plotly\"], function(Plotly) { window.PLOTLYENV=window.PLOTLYENV || {};window.PLOTLYENV.BASE_URL=\"https://plot.ly\";Plotly.newPlot(\"179ac3c7-1696-4b2d-91d8-44ef0a31bf76\", [{\"type\": \"scatterternary\", \"mode\": \"markers\", \"a\": [-0.43368647997032644, 0.5663135200296735, -0.13262704005934725], \"b\": [-0.26307171897200454, -0.36846414051399784, 0.6315358594860021], \"c\": [-0.5322427133371402, 0.4677572866628597, 0.06448542667428102], \"text\": [\"russwest44\", \"KingJames\", \"TigerWoods\"], \"marker\": {\"symbol\": \"x\", \"color\": [-0.5800865800865801, 0.41991341991341996, 0.16017316017316022], \"autocolorscale\": true, \"size\": 12}}], {\"ternary\": {\"sum\": 1, \"aaxis\": {\"title\": \"Retweets\", \"titlefont\": {\"size\": 20}, \"tickfont\": {\"size\": 15}, \"tickcolor\": \"rgba(0,0,0,0)\", \"ticklen\": 5, \"showline\": true, \"showgrid\": true}, \"baxis\": {\"title\": \"<br>RFR\", \"titlefont\": {\"size\": 20}, \"tickfont\": {\"size\": 15}, \"tickcolor\": \"rgba(0,0,0,0)\", \"ticklen\": 5, \"showline\": true, \"showgrid\": true}, \"caxis\": {\"title\": \"<br>Likes\", \"titlefont\": {\"size\": 20}, \"tickfont\": {\"size\": 15}, \"tickcolor\": \"rgba(0,0,0,0)\", \"ticklen\": 5, \"showline\": true, \"showgrid\": true}}, \"annotations\": [{\"showarrow\": false, \"text\": \"Athletes\", \"x\": 0.5, \"y\": 1.3, \"font\": {\"size\": 35}}]}, {\"showLink\": true, \"linkText\": \"Export to plot.ly\"})});</script>"
      ],
      "text/vnd.plotly.v1+html": [
       "<div id=\"179ac3c7-1696-4b2d-91d8-44ef0a31bf76\" style=\"height: 525px; width: 100%;\" class=\"plotly-graph-div\"></div><script type=\"text/javascript\">require([\"plotly\"], function(Plotly) { window.PLOTLYENV=window.PLOTLYENV || {};window.PLOTLYENV.BASE_URL=\"https://plot.ly\";Plotly.newPlot(\"179ac3c7-1696-4b2d-91d8-44ef0a31bf76\", [{\"type\": \"scatterternary\", \"mode\": \"markers\", \"a\": [-0.43368647997032644, 0.5663135200296735, -0.13262704005934725], \"b\": [-0.26307171897200454, -0.36846414051399784, 0.6315358594860021], \"c\": [-0.5322427133371402, 0.4677572866628597, 0.06448542667428102], \"text\": [\"russwest44\", \"KingJames\", \"TigerWoods\"], \"marker\": {\"symbol\": \"x\", \"color\": [-0.5800865800865801, 0.41991341991341996, 0.16017316017316022], \"autocolorscale\": true, \"size\": 12}}], {\"ternary\": {\"sum\": 1, \"aaxis\": {\"title\": \"Retweets\", \"titlefont\": {\"size\": 20}, \"tickfont\": {\"size\": 15}, \"tickcolor\": \"rgba(0,0,0,0)\", \"ticklen\": 5, \"showline\": true, \"showgrid\": true}, \"baxis\": {\"title\": \"<br>RFR\", \"titlefont\": {\"size\": 20}, \"tickfont\": {\"size\": 15}, \"tickcolor\": \"rgba(0,0,0,0)\", \"ticklen\": 5, \"showline\": true, \"showgrid\": true}, \"caxis\": {\"title\": \"<br>Likes\", \"titlefont\": {\"size\": 20}, \"tickfont\": {\"size\": 15}, \"tickcolor\": \"rgba(0,0,0,0)\", \"ticklen\": 5, \"showline\": true, \"showgrid\": true}}, \"annotations\": [{\"showarrow\": false, \"text\": \"Athletes\", \"x\": 0.5, \"y\": 1.3, \"font\": {\"size\": 35}}]}, {\"showLink\": true, \"linkText\": \"Export to plot.ly\"})});</script>"
      ]
     },
     "metadata": {},
     "output_type": "display_data"
    }
   ],
   "source": [
    "athlete_screen_names = []\n",
    "athlete_list = []\n",
    "for name in athlete_screen_names:\n",
    "    athlete_list.append(get_twitter_stats(name))\n",
    "athlete_df = pd.DataFrame(athlete_list, columns=['ave_fav','ave_rt','ave_rfr','pos_to_neg','username'])\n",
    "tmp = athlete_df.drop('username', axis=1)\n",
    "athlete_df_norm = (tmp - tmp.mean()) / (tmp.max() - tmp.min())\n",
    "athlete_df_norm['username'] = athlete_df['username']\n",
    "ternary_plot(athlete_df_norm, 'Athletes')"
   ]
  },
  {
   "cell_type": "code",
   "execution_count": 20,
   "metadata": {},
   "outputs": [
    {
     "name": "stdout",
     "output_type": "stream",
     "text": [
      "[18065.400000000001, 3005.1999999999998, 0.014430642771974256, 2.714285714285714, 'JohnMayer']\n",
      "[1662.3499999999999, 631.5, 0.0075523165463836067, 1.3125, 'ACDC']\n",
      "[10210.450000000001, 1732.5999999999999, 0.0055047040755749422, 2.3499999999999996, 'BryanCranston']\n"
     ]
    },
    {
     "data": {
      "application/vnd.plotly.v1+json": {
       "data": [
        {
         "a": [
          0.5120416789540942,
          -0.48795832104590575,
          -0.02408335790818828
         ],
         "b": [
          0.5901999203125954,
          -0.1803998406251911,
          -0.40980007968740456
         ],
         "c": [
          0.49295710249008573,
          -0.5070428975099142,
          0.014085795019828694
         ],
         "marker": {
          "autocolorscale": true,
          "color": [
           0.4199575371549894,
           -0.5800424628450106,
           0.16008492569002117
          ],
          "size": 12,
          "symbol": "x"
         },
         "mode": "markers",
         "text": [
          "JohnMayer",
          "ACDC",
          "BryanCranston"
         ],
         "type": "scatterternary"
        }
       ],
       "layout": {
        "annotations": [
         {
          "font": {
           "size": 35
          },
          "showarrow": false,
          "text": "Musicians",
          "x": 0.5,
          "y": 1.3
         }
        ],
        "ternary": {
         "aaxis": {
          "showgrid": true,
          "showline": true,
          "tickcolor": "rgba(0,0,0,0)",
          "tickfont": {
           "size": 15
          },
          "ticklen": 5,
          "title": "Retweets",
          "titlefont": {
           "size": 20
          }
         },
         "baxis": {
          "showgrid": true,
          "showline": true,
          "tickcolor": "rgba(0,0,0,0)",
          "tickfont": {
           "size": 15
          },
          "ticklen": 5,
          "title": "<br>RFR",
          "titlefont": {
           "size": 20
          }
         },
         "caxis": {
          "showgrid": true,
          "showline": true,
          "tickcolor": "rgba(0,0,0,0)",
          "tickfont": {
           "size": 15
          },
          "ticklen": 5,
          "title": "<br>Likes",
          "titlefont": {
           "size": 20
          }
         },
         "sum": 1
        }
       }
      },
      "text/html": [
       "<div id=\"a912e8ea-e8d3-460b-9ce4-f3dd4cb2173e\" style=\"height: 525px; width: 100%;\" class=\"plotly-graph-div\"></div><script type=\"text/javascript\">require([\"plotly\"], function(Plotly) { window.PLOTLYENV=window.PLOTLYENV || {};window.PLOTLYENV.BASE_URL=\"https://plot.ly\";Plotly.newPlot(\"a912e8ea-e8d3-460b-9ce4-f3dd4cb2173e\", [{\"type\": \"scatterternary\", \"mode\": \"markers\", \"a\": [0.5120416789540942, -0.48795832104590575, -0.02408335790818828], \"b\": [0.5901999203125954, -0.1803998406251911, -0.40980007968740456], \"c\": [0.49295710249008573, -0.5070428975099142, 0.014085795019828694], \"text\": [\"JohnMayer\", \"ACDC\", \"BryanCranston\"], \"marker\": {\"symbol\": \"x\", \"color\": [0.4199575371549894, -0.5800424628450106, 0.16008492569002117], \"autocolorscale\": true, \"size\": 12}}], {\"ternary\": {\"sum\": 1, \"aaxis\": {\"title\": \"Retweets\", \"titlefont\": {\"size\": 20}, \"tickfont\": {\"size\": 15}, \"tickcolor\": \"rgba(0,0,0,0)\", \"ticklen\": 5, \"showline\": true, \"showgrid\": true}, \"baxis\": {\"title\": \"<br>RFR\", \"titlefont\": {\"size\": 20}, \"tickfont\": {\"size\": 15}, \"tickcolor\": \"rgba(0,0,0,0)\", \"ticklen\": 5, \"showline\": true, \"showgrid\": true}, \"caxis\": {\"title\": \"<br>Likes\", \"titlefont\": {\"size\": 20}, \"tickfont\": {\"size\": 15}, \"tickcolor\": \"rgba(0,0,0,0)\", \"ticklen\": 5, \"showline\": true, \"showgrid\": true}}, \"annotations\": [{\"showarrow\": false, \"text\": \"Musicians\", \"x\": 0.5, \"y\": 1.3, \"font\": {\"size\": 35}}]}, {\"showLink\": true, \"linkText\": \"Export to plot.ly\"})});</script>"
      ],
      "text/vnd.plotly.v1+html": [
       "<div id=\"a912e8ea-e8d3-460b-9ce4-f3dd4cb2173e\" style=\"height: 525px; width: 100%;\" class=\"plotly-graph-div\"></div><script type=\"text/javascript\">require([\"plotly\"], function(Plotly) { window.PLOTLYENV=window.PLOTLYENV || {};window.PLOTLYENV.BASE_URL=\"https://plot.ly\";Plotly.newPlot(\"a912e8ea-e8d3-460b-9ce4-f3dd4cb2173e\", [{\"type\": \"scatterternary\", \"mode\": \"markers\", \"a\": [0.5120416789540942, -0.48795832104590575, -0.02408335790818828], \"b\": [0.5901999203125954, -0.1803998406251911, -0.40980007968740456], \"c\": [0.49295710249008573, -0.5070428975099142, 0.014085795019828694], \"text\": [\"JohnMayer\", \"ACDC\", \"BryanCranston\"], \"marker\": {\"symbol\": \"x\", \"color\": [0.4199575371549894, -0.5800424628450106, 0.16008492569002117], \"autocolorscale\": true, \"size\": 12}}], {\"ternary\": {\"sum\": 1, \"aaxis\": {\"title\": \"Retweets\", \"titlefont\": {\"size\": 20}, \"tickfont\": {\"size\": 15}, \"tickcolor\": \"rgba(0,0,0,0)\", \"ticklen\": 5, \"showline\": true, \"showgrid\": true}, \"baxis\": {\"title\": \"<br>RFR\", \"titlefont\": {\"size\": 20}, \"tickfont\": {\"size\": 15}, \"tickcolor\": \"rgba(0,0,0,0)\", \"ticklen\": 5, \"showline\": true, \"showgrid\": true}, \"caxis\": {\"title\": \"<br>Likes\", \"titlefont\": {\"size\": 20}, \"tickfont\": {\"size\": 15}, \"tickcolor\": \"rgba(0,0,0,0)\", \"ticklen\": 5, \"showline\": true, \"showgrid\": true}}, \"annotations\": [{\"showarrow\": false, \"text\": \"Musicians\", \"x\": 0.5, \"y\": 1.3, \"font\": {\"size\": 35}}]}, {\"showLink\": true, \"linkText\": \"Export to plot.ly\"})});</script>"
      ]
     },
     "metadata": {},
     "output_type": "display_data"
    }
   ],
   "source": [
    "musician_screen_names = ['JohnMayer','ACDC','BryanCranston']\n",
    "musician_list = []\n",
    "for name in musician_screen_names:\n",
    "    musician_list.append(get_twitter_stats(name))\n",
    "musician_df = pd.DataFrame(musician_list, columns=['ave_fav','ave_rt','ave_rfr','pos_to_neg','username'])\n",
    "tmp = musician_df.drop('username', axis=1)\n",
    "musician_df_norm = (tmp - tmp.mean()) / (tmp.max() - tmp.min())\n",
    "musician_df_norm['username'] = musician_df['username']\n",
    "ternary_plot(musician_df_norm, 'Musicians')"
   ]
  },
  {
   "cell_type": "code",
   "execution_count": null,
   "metadata": {},
   "outputs": [],
   "source": []
  }
 ],
 "metadata": {
  "kernelspec": {
   "display_name": "Python 3",
   "language": "python",
   "name": "python3"
  },
  "language_info": {
   "codemirror_mode": {
    "name": "ipython",
    "version": 3
   },
   "file_extension": ".py",
   "mimetype": "text/x-python",
   "name": "python",
   "nbconvert_exporter": "python",
   "pygments_lexer": "ipython3",
   "version": "3.6.4"
  }
 },
 "nbformat": 4,
 "nbformat_minor": 2
}
